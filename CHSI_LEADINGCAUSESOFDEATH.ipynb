{
  "nbformat": 4,
  "nbformat_minor": 0,
  "metadata": {
    "colab": {
      "name": "CHSI_LEADINGCAUSESOFDEATH.ipynb",
      "version": "0.3.2",
      "provenance": []
    },
    "kernelspec": {
      "name": "python3",
      "display_name": "Python 3"
    }
  },
  "cells": [
    {
      "cell_type": "code",
      "metadata": {
        "id": "tiB7rG3AYSWV",
        "colab_type": "code",
        "colab": {}
      },
      "source": [
        "import plotly\n",
        "import matplotlib\n",
        "import numpy as np\n",
        "import pandas as pd\n",
        "import seaborn as sns\n",
        "import matplotlib.pyplot as plt"
      ],
      "execution_count": 0,
      "outputs": []
    },
    {
      "cell_type": "code",
      "metadata": {
        "id": "n6B2e4mtYVDj",
        "colab_type": "code",
        "colab": {}
      },
      "source": [
        "df_LCOD = pd.read_csv('https://raw.githubusercontent.com/Nov05/CHSI-Dash/master/data/LEADINGCAUSESOFDEATH.csv')  \n",
        "print(df_LCOD.shape)\n",
        "df_LCOD.sample(5)"
      ],
      "execution_count": 0,
      "outputs": []
    },
    {
      "cell_type": "code",
      "metadata": {
        "id": "SMdxoATMYZHR",
        "colab_type": "code",
        "colab": {}
      },
      "source": [
        "LCOD_clean = pd.DataFrame()\n",
        "LCOD_clean['County_Name'] = df_LCOD['CHSI_County_Name']\n",
        "LCOD_clean['State_Name'] = df_LCOD['CHSI_State_Name']\n",
        "LCOD_clean['State_Abbr'] = df_LCOD['CHSI_State_Abbr']\n",
        "\n",
        "LCOD_clean['A_Wh_Comp'] = df_LCOD['A_Wh_Comp']\n",
        "LCOD_clean['A_Bl_Comp'] = df_LCOD['A_Bl_Comp']\n",
        "LCOD_clean['A_Ot_Comp'] = df_LCOD['A_Ot_Comp']\n",
        "LCOD_clean['A_Hi_Comp'] = df_LCOD['A_Hi_Comp']\n",
        "LCOD_clean['A_Wh_BirthDef'] = df_LCOD['A_Wh_BirthDef']\n",
        "LCOD_clean['A_Bl_BirthDef'] = df_LCOD['A_Bl_BirthDef']\n",
        "LCOD_clean['A_Ot_BirthDef'] = df_LCOD['A_Ot_BirthDef']\n",
        "LCOD_clean['A_Hi_BirthDef'] = df_LCOD['A_Hi_BirthDef']\n",
        "\n",
        "LCOD_clean['B_Wh_Injury'] = df_LCOD['B_Wh_Injury']\n",
        "LCOD_clean['B_Bl_Injury'] = df_LCOD['B_Bl_Injury']\n",
        "LCOD_clean['B_Ot_Injury'] = df_LCOD['B_Ot_Injury']\n",
        "LCOD_clean['B_Hi_Injury'] = df_LCOD['B_Hi_Injury']\n",
        "LCOD_clean['B_Wh_Cancer'] = df_LCOD['B_Wh_Cancer']\n",
        "LCOD_clean['B_Bl_Cancer'] = df_LCOD['B_Bl_Cancer']\n",
        "LCOD_clean['B_Ot_Cancer'] = df_LCOD['B_Ot_Cancer']\n",
        "LCOD_clean['B_Hi_Cancer'] = df_LCOD['B_Hi_Cancer']\n",
        "LCOD_clean['B_Wh_Homicide'] = df_LCOD['B_Wh_Homicide']\n",
        "LCOD_clean['B_Bl_Homicide'] = df_LCOD['B_Bl_Homicide']\n",
        "LCOD_clean['B_Ot_Homicide'] = df_LCOD['B_Ot_Homicide']\n",
        "LCOD_clean['B_Hi_Homicide'] = df_LCOD['B_Hi_Homicide']\n",
        "\n",
        "LCOD_clean['C_Wh_Injury'] = df_LCOD['C_Wh_Injury']\n",
        "LCOD_clean['C_Bl_Injury'] = df_LCOD['C_Bl_Injury']\n",
        "LCOD_clean['C_Ot_Injury'] = df_LCOD['C_Ot_Injury']\n",
        "LCOD_clean['C_Hi_Injury'] = df_LCOD['C_Hi_Injury']\n",
        "LCOD_clean['C_Wh_Homicide'] = df_LCOD['C_Wh_Homicide']\n",
        "LCOD_clean['C_Bl_Homicide'] = df_LCOD['C_Bl_Homicide']\n",
        "LCOD_clean['C_Ot_homicide'] = df_LCOD['C_Ot_homicide']\n",
        "LCOD_clean['C_Hi_Homicide'] = df_LCOD['C_Hi_Homicide']\n",
        "LCOD_clean['C_Wh_Suicide'] = df_LCOD['C_Wh_Suicide']\n",
        "LCOD_clean['C_Bl_Suicide'] = df_LCOD['C_Bl_Suicide']\n",
        "LCOD_clean['C_Ot_Suicide'] = df_LCOD['C_Ot_Suicide']\n",
        "LCOD_clean['C_Hi_Suicide'] = df_LCOD['C_Hi_Suicide']\n",
        "LCOD_clean['C_Wh_Cancer'] = df_LCOD['C_Wh_Cancer']\n",
        "LCOD_clean['C_Bl_Cancer'] = df_LCOD['C_Bl_Cancer']\n",
        "LCOD_clean['C_Ot_Cancer'] = df_LCOD['C_Ot_Cancer']\n",
        "LCOD_clean['C_Hi_Cancer'] = df_LCOD['C_Hi_Cancer']\n",
        "\n",
        "LCOD_clean['D_Wh_Injury'] = df_LCOD['D_Wh_Injury']\n",
        "LCOD_clean['D_Bl_Injury'] = df_LCOD['D_Bl_Injury']\n",
        "LCOD_clean['D_Ot_Injury'] = df_LCOD['D_Ot_Injury']\n",
        "LCOD_clean['D_Hi_Injury'] = df_LCOD['D_Hi_Injury']\n",
        "LCOD_clean['D_Wh_Cancer'] = df_LCOD['D_Wh_Cancer']\n",
        "LCOD_clean['D_Bl_Cancer'] = df_LCOD['D_Bl_Cancer']\n",
        "LCOD_clean['D_Ot_Cancer'] = df_LCOD['D_Ot_Cancer']\n",
        "LCOD_clean['D_Hi_Cancer'] = df_LCOD['D_Hi_Cancer']\n",
        "LCOD_clean['D_Wh_HeartDis'] = df_LCOD['D_Wh_HeartDis']\n",
        "LCOD_clean['D_Bl_HeartDis'] = df_LCOD['D_Bl_HeartDis']\n",
        "LCOD_clean['D_Ot_HeartDis'] = df_LCOD['D_Ot_HeartDis']\n",
        "LCOD_clean['D_Hi_HeartDis'] = df_LCOD['D_Hi_HeartDis']\n",
        "LCOD_clean['D_Wh_Suicide'] = df_LCOD['D_Wh_Suicide']\n",
        "LCOD_clean['D_Bl_Suicide'] = df_LCOD['D_Bl_Suicide']\n",
        "LCOD_clean['D_Ot_Suicide'] = df_LCOD['D_Ot_Suicide']\n",
        "LCOD_clean['D_Hi_Suicide'] = df_LCOD['D_Hi_Suicide']\n",
        "LCOD_clean['D_Wh_HIV'] = df_LCOD['D_Wh_HIV']\n",
        "LCOD_clean['D_Bl_HIV'] = df_LCOD['D_Bl_HIV']\n",
        "LCOD_clean['D_Ot_HIV'] = df_LCOD['D_Ot_HIV']\n",
        "LCOD_clean['D_Hi_HIV'] = df_LCOD['D_Hi_HIV']\n",
        "LCOD_clean['D_Wh_Homicide'] = df_LCOD['D_Wh_Homicide']\n",
        "LCOD_clean['D_Bl_Homicide'] = df_LCOD['D_Bl_Homicide']\n",
        "LCOD_clean['D_Ot_Homicide'] = df_LCOD['D_Ot_Homicide']\n",
        "LCOD_clean['D_Hi_Homicide'] = df_LCOD['D_Hi_Homicide']\n",
        "\n",
        "LCOD_clean['E_Wh_Cancer'] = df_LCOD['E_Wh_Cancer']\n",
        "LCOD_clean['E_Bl_Cancer'] = df_LCOD['E_Bl_Cancer']\n",
        "LCOD_clean['E_Ot_Cancer'] = df_LCOD['E_Ot_Cancer']\n",
        "LCOD_clean['E_Hi_Cancer'] = df_LCOD['E_Hi_Cancer']\n",
        "LCOD_clean['E_Wh_HeartDis'] = df_LCOD['E_Wh_HeartDis']\n",
        "LCOD_clean['E_Bl_HeartDis'] = df_LCOD['E_Bl_HeartDis']\n",
        "LCOD_clean['E_Ot_HeartDis'] = df_LCOD['E_Ot_HeartDis']\n",
        "LCOD_clean['E_Hi_HeartDis'] = df_LCOD['E_Hi_HeartDis']\n",
        "\n",
        "LCOD_clean['F_Wh_Cancer'] = df_LCOD['F_Wh_Cancer']\n",
        "LCOD_clean['F_Bl_Cancer'] = df_LCOD['F_Bl_Cancer']\n",
        "LCOD_clean['F_Ot_Cancer'] = df_LCOD['F_Ot_Cancer']\n",
        "LCOD_clean['F_Hi_Cancer'] = df_LCOD['F_Hi_Cancer']\n",
        "LCOD_clean['F_Wh_HeartDis'] = df_LCOD['F_Wh_HeartDis']\n",
        "LCOD_clean['F_Bl_HeartDis'] = df_LCOD['F_Bl_HeartDis']\n",
        "LCOD_clean['F_Ot_HeartDis'] = df_LCOD['F_Ot_HeartDis']\n",
        "LCOD_clean['F_Hi_HeartDis'] = df_LCOD['F_Hi_HeartDis']\n",
        "LCOD_clean['LCD_Time_Span'] = df_LCOD['LCD_Time_Span']\n",
        "\n",
        "print(LCOD_clean.shape)\n",
        "LCOD_clean.sample(5)"
      ],
      "execution_count": 0,
      "outputs": []
    },
    {
      "cell_type": "code",
      "metadata": {
        "id": "ql2bA77sYayR",
        "colab_type": "code",
        "colab": {}
      },
      "source": [
        "LCOD_clean = LCOD_clean.replace([-1111,-2222],[np.nan,np.nan]) \n",
        "LCOD_clean.describe()"
      ],
      "execution_count": 0,
      "outputs": []
    },
    {
      "cell_type": "code",
      "metadata": {
        "id": "uSaXS82ZYcn5",
        "colab_type": "code",
        "colab": {}
      },
      "source": [
        "LCOD_clean.sample(5)"
      ],
      "execution_count": 0,
      "outputs": []
    }
  ]
}