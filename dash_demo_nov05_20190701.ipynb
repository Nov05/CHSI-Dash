{
  "nbformat": 4,
  "nbformat_minor": 0,
  "metadata": {
    "colab": {
      "name": "dash_demo_nov05_20190701.ipynb",
      "version": "0.3.2",
      "provenance": [],
      "collapsed_sections": [],
      "include_colab_link": true
    },
    "kernelspec": {
      "name": "python3",
      "display_name": "Python 3"
    }
  },
  "cells": [
    {
      "cell_type": "markdown",
      "metadata": {
        "id": "view-in-github",
        "colab_type": "text"
      },
      "source": [
        "<a href=\"https://colab.research.google.com/github/Nov05/CHSI-Dash/blob/master/dash_demo_nov05_20190701.ipynb\" target=\"_parent\"><img src=\"https://colab.research.google.com/assets/colab-badge.svg\" alt=\"Open In Colab\"/></a>"
      ]
    },
    {
      "cell_type": "code",
      "metadata": {
        "id": "ujgVKT3k8rDx",
        "colab_type": "code",
        "colab": {}
      },
      "source": [
        "# created by nov05 on 2019-07-01\n",
        "# CHSI-Dash\n",
        "# notebooks/"
      ],
      "execution_count": 0,
      "outputs": []
    },
    {
      "cell_type": "code",
      "metadata": {
        "id": "yKA3mnwUxUDe",
        "colab_type": "code",
        "colab": {}
      },
      "source": [
        "!pip install dash==1.0.0  # The core dash backend\n",
        "!pip install dash-daq==0.1.0  # DAQ components (newly open-sourced!)\n",
        "### Install ngrok\n",
        "!wget https://bin.equinox.io/c/4VmDzA7iaHb/ngrok-stable-linux-amd64.zip\n",
        "!unzip ngrok-stable-linux-amd64.zip"
      ],
      "execution_count": 0,
      "outputs": []
    },
    {
      "cell_type": "code",
      "metadata": {
        "id": "uFDP0WNOQurk",
        "colab_type": "code",
        "colab": {}
      },
      "source": [
        "# !pip install plotly_express"
      ],
      "execution_count": 0,
      "outputs": []
    },
    {
      "cell_type": "code",
      "metadata": {
        "id": "mgmQsGIuxR06",
        "colab_type": "code",
        "colab": {}
      },
      "source": [
        "import numpy as np\n",
        "import pandas as pd\n",
        "\n",
        "import plotly_express as px\n",
        "from plotly.offline import init_notebook_mode\n",
        "\n",
        "import warnings\n",
        "warnings.filterwarnings('ignore')\n",
        "# warnings.filterwarnings(action='once')"
      ],
      "execution_count": 0,
      "outputs": []
    },
    {
      "cell_type": "markdown",
      "metadata": {
        "id": "ziPnIPwEROYa",
        "colab_type": "text"
      },
      "source": [
        "# demo"
      ]
    },
    {
      "cell_type": "code",
      "metadata": {
        "id": "QbwgeOeDuKdY",
        "colab_type": "code",
        "outputId": "fa0a5112-ce67-4ecd-d255-74371b57fb39",
        "colab": {
          "base_uri": "https://localhost:8080/",
          "height": 35
        }
      },
      "source": [
        "# run this code black to get a link, then run your Dash app\n",
        "get_ipython().system_raw('./ngrok http 8050 &')\n",
        "! curl -s http://localhost:4040/api/tunnels | python3 -c \\\n",
        "\"import sys, json; print(json.load(sys.stdin)['tunnels'][0]['public_url'])\"\n",
        "# click on the link below after you start your Dash app"
      ],
      "execution_count": 0,
      "outputs": [
        {
          "output_type": "stream",
          "text": [
            "https://4a01996e.ngrok.io\n"
          ],
          "name": "stdout"
        }
      ]
    },
    {
      "cell_type": "code",
      "metadata": {
        "id": "RoeaWVzWunHR",
        "colab_type": "code",
        "colab": {}
      },
      "source": [
        "import dash\n",
        "import dash_core_components as dcc\n",
        "import dash_html_components as html\n",
        "from dash.dependencies import Input, Output\n",
        "import plotly_express as px\n",
        "\n",
        "tips = px.data.tips()\n",
        "col_options = [dict(label=x, value=x) for x in tips.columns]\n",
        "dimensions = ['x', 'y', 'color', 'facet_col', 'facet_row']\n",
        "\n",
        "app = dash.Dash(__name__)\n",
        "\n",
        "app.layout = html.Div(children=[\n",
        "    html.H1(\"Demo: Plotly Express in Dash with Tips Dataset\"),\n",
        "    html.Div([html.P([d+\":\", dcc.Dropdown(id=d, options=col_options)])\n",
        "              for d in dimensions\n",
        "             ]),\n",
        "    dcc.Graph(id=\"graph\", figure=px.scatter(tips))\n",
        "])\n",
        "\n",
        "@app.callback(Output(\"graph\", \"figure\"), [Input(d, \"value\") for d in dimensions])\n",
        "def cb(x, y, color, facet_col, facet_row):\n",
        "  return px.scatter(tips, x=x, y=y, color=color, facet_col=facet_col, facet_row=facet_row)\n",
        "\n",
        "app._external_stylesheet = [\"https://codepen.io/chriddyp/pen/bWLwgP.css\"]\n",
        "app.run_server()"
      ],
      "execution_count": 0,
      "outputs": []
    },
    {
      "cell_type": "markdown",
      "metadata": {
        "id": "cdNYcqZIRWny",
        "colab_type": "text"
      },
      "source": [
        "# CHSI demographic  "
      ]
    },
    {
      "cell_type": "code",
      "metadata": {
        "id": "3owv3PxjRMn9",
        "colab_type": "code",
        "colab": {
          "base_uri": "https://localhost:8080/",
          "height": 35
        },
        "outputId": "2eef6c3b-cf01-4b3d-dedf-c9c011be3c68"
      },
      "source": [
        "# run this code black to get a link, then run your Dash app\n",
        "get_ipython().system_raw('./ngrok http 8050 &')\n",
        "! curl -s http://localhost:4040/api/tunnels | python3 -c \\\n",
        "\"import sys, json; print(json.load(sys.stdin)['tunnels'][0]['public_url'])\"\n",
        "# click on the link below after you start your Dash app"
      ],
      "execution_count": 2,
      "outputs": [
        {
          "output_type": "stream",
          "text": [
            "http://47ca4547.ngrok.io\n"
          ],
          "name": "stdout"
        }
      ]
    },
    {
      "cell_type": "code",
      "metadata": {
        "id": "KUSPLXZiQUyC",
        "colab_type": "code",
        "colab": {
          "base_uri": "https://localhost:8080/",
          "height": 334
        },
        "outputId": "557eef12-423a-436d-b8b2-2e0f91bb3d5c"
      },
      "source": [
        "import pandas as pd\n",
        "import numpy as np\n",
        "\n",
        "import plotly.plotly as py\n",
        "import plotly.graph_objs as go\n",
        "\n",
        "import dash\n",
        "import dash_core_components as dcc\n",
        "import dash_html_components as html\n",
        "from dash.dependencies import Input, Output\n",
        "\n",
        "url = \"https://raw.githubusercontent.com/Nov05/CHSI-Dash/master/data/DEMOGRAPHICS.csv\"\n",
        "demogr = pd.read_csv(url)\n",
        "\n",
        "colorscales = [\"Greens\", \"YlOrRd\", \"Bluered\", \"RdBu\", \"Reds\", \n",
        "               \"Blues\", \"Picnic\", \"Rainbow\", \"Portland\", \"Jet\", \n",
        "               \"Hot\", \"Blackbody\", \"Earth\", \"Electric\", \"Viridis\", \n",
        "               \"Cividis\"]\n",
        "cols = demogr.columns.tolist()\n",
        "\n",
        "# log10(population density), age under 19, poverty\n",
        "x, y, z = (np.log10(demogr[cols[11]].replace([-2222,0], [demogr[cols[11]].mean(),1])), \n",
        "           demogr[cols[17]], \n",
        "           demogr[cols[14]].replace(-2222.2, demogr[cols[14]].mean()))\n",
        "d = np.log10(demogr[cols[8]]) # log10(population)\n",
        "\n",
        "trace1 = go.Scatter3d(\n",
        "    x=x,\n",
        "    y=y,\n",
        "    z=z,\n",
        "    mode='markers',\n",
        "    marker=dict(\n",
        "        size=d*2,\n",
        "        color=z,                     # set color to an array/list of desired values\n",
        "        colorscale=colorscales[8],   # choose a colorscale\n",
        "        opacity=1,\n",
        "        showscale=True,\n",
        "        colorbar=dict(x=0.81, len=0.5, \n",
        "                      thickness=10,\n",
        "                      outlinecolor='white', outlinewidth=0,\n",
        "                      title=dict(text=\"Poverty\", font=dict(size=10))\n",
        "                     ),\n",
        "        line=dict(width=0.001, color='black')\n",
        "    ),\n",
        "    text='County Level',\n",
        "    projection=dict(x=dict(show=True, opacity=0.1, scale=0.4),\n",
        "                    y=dict(show=True, opacity=0.1, scale=0.4),\n",
        "                    z=dict(show=True, opacity=0.1, scale=0.4),\n",
        "                   )\n",
        ")\n",
        "\n",
        "data = [trace1]\n",
        "layout = go.Layout(\n",
        "    autosize=False,\n",
        "    width=1100,\n",
        "    height=700,\n",
        "    margin=dict(\n",
        "        l=0,\n",
        "        r=0,\n",
        "        b=0,\n",
        "        t=0\n",
        "    ),\n",
        "    scene=dict(xaxis=dict(title=\"x = Population Density (lg)\"),\n",
        "               yaxis=dict(title=\"y = Age Under 19\"),\n",
        "               zaxis=dict(title=\"z = Poverty\"),),\n",
        ")\n",
        "fig = go.Figure(data=data, layout=layout)\n",
        "\n",
        "app = dash.Dash(__name__)\n",
        "\n",
        "app.layout = html.Div(children=[\n",
        "    html.H1(\"CHSI Demographic Data\"),\n",
        "#     html.Div([html.P([d+\":\", dcc.Dropdown(id=d, options=col_options)])\n",
        "#               for d in dimensions\n",
        "#              ]),\n",
        "    dcc.Graph(id=\"graph\", figure=fig)\n",
        "])\n",
        "\n",
        "# @app.callback(Output(\"graph\", \"figure\"), [Input(d, \"value\") for d in dimensions])\n",
        "# def cb(x, y, color, facet_col, facet_row):\n",
        "#   return px.scatter(tips, x=x, y=y, color=color, facet_col=facet_col, facet_row=facet_row)\n",
        "\n",
        "# app._external_stylesheet = [\"https://codepen.io/chriddyp/pen/bWLwgP.css\"]\n",
        "app.run_server()"
      ],
      "execution_count": 4,
      "outputs": [
        {
          "output_type": "stream",
          "text": [
            " * Serving Flask app \"__main__\" (lazy loading)\n",
            " * Environment: production\n",
            "   WARNING: This is a development server. Do not use it in a production deployment.\n",
            "   Use a production WSGI server instead.\n",
            " * Debug mode: off\n"
          ],
          "name": "stdout"
        },
        {
          "output_type": "stream",
          "text": [
            " * Running on http://127.0.0.1:8050/ (Press CTRL+C to quit)\n",
            "127.0.0.1 - - [03/Jul/2019 05:26:53] \"\u001b[37mGET / HTTP/1.1\u001b[0m\" 200 -\n",
            "127.0.0.1 - - [03/Jul/2019 05:26:53] \"\u001b[37mGET /_dash-component-suites/dash_renderer/react@16.8.6.min.js?v=1.0.0&m=1562131338 HTTP/1.1\u001b[0m\" 200 -\n",
            "127.0.0.1 - - [03/Jul/2019 05:26:53] \"\u001b[37mGET /_dash-component-suites/dash_renderer/react-dom@16.8.6.min.js?v=1.0.0&m=1562131338 HTTP/1.1\u001b[0m\" 200 -\n",
            "127.0.0.1 - - [03/Jul/2019 05:26:53] \"\u001b[37mGET /_dash-component-suites/dash_renderer/prop-types@15.7.2.min.js?v=1.0.0&m=1562131338 HTTP/1.1\u001b[0m\" 200 -\n",
            "127.0.0.1 - - [03/Jul/2019 05:26:53] \"\u001b[37mGET /_dash-component-suites/dash_core_components/highlight.pack.js?v=1.0.0&m=1562131339 HTTP/1.1\u001b[0m\" 200 -\n",
            "127.0.0.1 - - [03/Jul/2019 05:26:53] \"\u001b[37mGET /_dash-component-suites/dash_html_components/dash_html_components.min.js?v=1.0.0&m=1562131340 HTTP/1.1\u001b[0m\" 200 -\n",
            "127.0.0.1 - - [03/Jul/2019 05:26:53] \"\u001b[37mGET /_dash-component-suites/dash_core_components/dash_core_components.min.js?v=1.0.0&m=1562131339 HTTP/1.1\u001b[0m\" 200 -\n",
            "127.0.0.1 - - [03/Jul/2019 05:26:53] \"\u001b[37mGET /_dash-component-suites/dash_renderer/dash_renderer.min.js?v=1.0.0&m=1562131338 HTTP/1.1\u001b[0m\" 200 -\n",
            "127.0.0.1 - - [03/Jul/2019 05:26:53] \"\u001b[37mGET /_dash-component-suites/dash_core_components/plotly-1.48.3.min.js?v=1.0.0&m=1562131339 HTTP/1.1\u001b[0m\" 200 -\n",
            "127.0.0.1 - - [03/Jul/2019 05:26:54] \"\u001b[37mGET /_dash-dependencies HTTP/1.1\u001b[0m\" 200 -\n",
            "127.0.0.1 - - [03/Jul/2019 05:26:54] \"\u001b[37mGET /_dash-layout HTTP/1.1\u001b[0m\" 200 -\n",
            "127.0.0.1 - - [03/Jul/2019 05:26:55] \"\u001b[37mGET /_favicon.ico?v=1.0.0 HTTP/1.1\u001b[0m\" 200 -\n"
          ],
          "name": "stderr"
        }
      ]
    }
  ]
}