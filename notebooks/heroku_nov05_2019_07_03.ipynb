{
  "nbformat": 4,
  "nbformat_minor": 0,
  "metadata": {
    "colab": {
      "name": "heroku_nov05_2019-07-03.ipynb",
      "version": "0.3.2",
      "provenance": [],
      "collapsed_sections": [],
      "include_colab_link": true
    },
    "kernelspec": {
      "name": "python3",
      "display_name": "Python 3"
    }
  },
  "cells": [
    {
      "cell_type": "markdown",
      "metadata": {
        "id": "view-in-github",
        "colab_type": "text"
      },
      "source": [
        "<a href=\"https://colab.research.google.com/github/Nov05/CHSI-Dash/blob/master/notebooks/heroku_nov05_2019_07_03.ipynb\" target=\"_parent\"><img src=\"https://colab.research.google.com/assets/colab-badge.svg\" alt=\"Open In Colab\"/></a>"
      ]
    },
    {
      "cell_type": "code",
      "metadata": {
        "id": "txEznrIld2U0",
        "colab_type": "code",
        "colab": {}
      },
      "source": [
        "# created by nov05 on 2019-07-02"
      ],
      "execution_count": 0,
      "outputs": []
    },
    {
      "cell_type": "markdown",
      "metadata": {
        "id": "EX8wSrjQeLkZ",
        "colab_type": "text"
      },
      "source": [
        "**How to deploy a simple Python app using nothing but Github and Heroku**  \n",
        "Austin Lasseter Feb 10  \n",
        "https://medium.com/@austinlasseter/how-to-deploy-a-simple-plotly-dash-app-to-heroku-622a2216eb73  \n",
        "https://github.com/austinlasseter/flying-dog-beers  \n",
        "\n",
        "\n",
        "https://www.phillipsj.net/posts/deploying-dash-to-google-app-engine    \n",
        "\n",
        "https://medium.com/python-pandemonium/better-python-dependency-and-package-management-b5d8ea29dff1  \n",
        "\n",
        "https://medium.com/@tomagee/pip-freeze-requirements-txt-considered-harmful-f0bce66cf895  \n",
        "https://python-docs.readthedocs.io/en/latest/dev/virtualenvs.html  \n",
        "https://realpython.com/pipenv-guide/  \n",
        "https://python-docs.readthedocs.io/en/latest/dev/virtualenvs.html  \n",
        "\n",
        "**How to record screen**  \n",
        "https://www.softwarehow.com/record-screen-windows/  \n",
        "\n",
        "**Python Dependencies**  \n",
        "/usr/local/lib/python3.6/dist-packages/  \n",
        "https://stackoverflow.com/questions/54475042/python-dependency-hell-a-compromise-between-virtualenv-and-global-dependencies  \n",
        "\n",
        "https://medium.com/google-cloud/using-google-cloud-ai-platform-notebooks-as-a-web-based-python-ide-e729e0dc6eed  \n",
        "\n",
        "**Set environment variables in Colab**  \n",
        "import os\n",
        "os.environ['PATH'] += \":/usr/local/go/bin\"  \n",
        "https://stackoverflow.com/questions/49684495/is-it-possible-to-set-environment-variables-in-googles-colaboratory  \n",
        "\n",
        "**Issue solved**  \n",
        "https://community.plot.ly/t/failed-to-find-application-object-server-in-app/13723"
      ]
    },
    {
      "cell_type": "code",
      "metadata": {
        "id": "uiJaDtChGI2v",
        "colab_type": "code",
        "outputId": "e4746bae-7dd2-47b4-d850-fc18a88b738d",
        "colab": {
          "base_uri": "https://localhost:8080/",
          "height": 35
        }
      },
      "source": [
        "!python --version\n",
        "# Python 3.6.8 on 2019-07-03"
      ],
      "execution_count": 0,
      "outputs": [
        {
          "output_type": "stream",
          "text": [
            "Python 3.6.8\n"
          ],
          "name": "stdout"
        }
      ]
    },
    {
      "cell_type": "code",
      "metadata": {
        "id": "hTuaK46WVtAS",
        "colab_type": "code",
        "outputId": "ef3befd0-f98b-4cde-c48b-bc6ae655585a",
        "colab": {
          "base_uri": "https://localhost:8080/",
          "height": 35
        }
      },
      "source": [
        "!pip --version"
      ],
      "execution_count": 0,
      "outputs": [
        {
          "output_type": "stream",
          "text": [
            "pip 19.1.1 from /usr/local/lib/python3.6/dist-packages/pip (python 3.6)\n"
          ],
          "name": "stdout"
        }
      ]
    },
    {
      "cell_type": "code",
      "metadata": {
        "id": "aqfEPZeQeRF5",
        "colab_type": "code",
        "outputId": "a99a90af-1d1e-4648-d9bb-d9f3d80fdd3e",
        "colab": {
          "base_uri": "https://localhost:8080/",
          "height": 35
        }
      },
      "source": [
        "import plotly\n",
        "print(plotly.__version__)\n",
        "import colorlover"
      ],
      "execution_count": 0,
      "outputs": [
        {
          "output_type": "stream",
          "text": [
            "3.6.1\n"
          ],
          "name": "stdout"
        }
      ]
    },
    {
      "cell_type": "code",
      "metadata": {
        "id": "73SmtwC1nQaw",
        "colab_type": "code",
        "colab": {}
      },
      "source": [
        "!ls /usr/local/lib/python3.6/dist-packages/"
      ],
      "execution_count": 0,
      "outputs": []
    },
    {
      "cell_type": "markdown",
      "metadata": {
        "id": "5y4142T2Fkka",
        "colab_type": "text"
      },
      "source": [
        "# pip freeze"
      ]
    },
    {
      "cell_type": "code",
      "metadata": {
        "id": "Z9pukwYjAnSD",
        "colab_type": "code",
        "colab": {}
      },
      "source": [
        "!pip freeze > requirements.txt\n",
        "# !pip freeze > pipfreeze_20190703.txt"
      ],
      "execution_count": 0,
      "outputs": []
    },
    {
      "cell_type": "markdown",
      "metadata": {
        "id": "rtvSfnhkFnbg",
        "colab_type": "text"
      },
      "source": [
        "# pipenv"
      ]
    },
    {
      "cell_type": "code",
      "metadata": {
        "id": "X7sAxbx-FfAN",
        "colab_type": "code",
        "colab": {}
      },
      "source": [
        "!pip install pipenv"
      ],
      "execution_count": 0,
      "outputs": []
    },
    {
      "cell_type": "markdown",
      "metadata": {
        "id": "6YOf8d3rFsni",
        "colab_type": "text"
      },
      "source": [
        "# Dash app"
      ]
    },
    {
      "cell_type": "code",
      "metadata": {
        "id": "sSjBvPr1eKnV",
        "colab_type": "code",
        "colab": {}
      },
      "source": [
        "!pip install dash==1.0.0  # The core dash backend\n",
        "!pip install dash-daq==0.1.0  # DAQ components (newly open-sourced!)\n",
        "### Install ngrok\n",
        "!wget https://bin.equinox.io/c/4VmDzA7iaHb/ngrok-stable-linux-amd64.zip\n",
        "!unzip ngrok-stable-linux-amd64.zip"
      ],
      "execution_count": 0,
      "outputs": []
    },
    {
      "cell_type": "code",
      "metadata": {
        "id": "96XkrQ-1TU0t",
        "colab_type": "code",
        "colab": {}
      },
      "source": [
        "# export code to .py file\n",
        "# %%writefile app.py\n",
        "\n",
        "\n",
        "import pandas as pd\n",
        "import numpy as np\n",
        "\n",
        "import plotly.plotly as py\n",
        "import plotly.graph_objs as go\n",
        "\n",
        "import dash\n",
        "import dash_core_components as dcc\n",
        "import dash_html_components as html\n",
        "from dash.dependencies import Input, Output\n",
        "\n",
        "import colorlover\n",
        "\n",
        "url = \"https://raw.githubusercontent.com/Nov05/CHSI-Dash/master/data/DEMOGRAPHICS.csv\"\n",
        "path = './data/DEMOGRAPHICS.csv'\n",
        "demogr = pd.read_csv(url)\n",
        "cols = demogr.columns.tolist()\n",
        "\n",
        "colorscales = [\"Greens\", \"YlOrRd\", \"Bluered\", \"RdBu\", \"Reds\", \n",
        "               \"Blues\", \"Picnic\", \"Rainbow\", \"Portland\", \"Jet\", \n",
        "               \"Hot\", \"Blackbody\", \"Earth\", \"Electric\", \"Viridis\", \n",
        "               \"Cividis\"]\n",
        "portland = [\n",
        "    [0, 'rgb(12,51,131)'], [0.25, 'rgb(10,136,186)'],\n",
        "    [0.5, 'rgb(242,211,56)'], [0.75, 'rgb(242,143,56)'],\n",
        "    [1, 'rgb(217,30,30)']\n",
        "]\n",
        "bgcolor = 'rgba(238, 238, 238, 1)'\n",
        "portland_rgb = [i[1] for i in portland]\n",
        "colorbarx = 0.95\n",
        "titlez = \"Poverty (%)\"\n",
        "url_repo = \"https://github.com/Nov05/CHSI-Dash-deploy\"\n",
        "\n",
        "#########################################################################\n",
        "# 3D Scatter\n",
        "#########################################################################\n",
        "def display_fig(in_age=0, in_slice=0, in_range=0):\n",
        "    \n",
        "  # Age  \n",
        "  # 19 Under, col 17 = 0\n",
        "  # 20-64, col 20 = 1\n",
        "  # 65-84, col 23 = 2\n",
        "  # 85 Over, col 26 = 3  \n",
        "  if in_age==0:\n",
        "    y = demogr[cols[17]]\n",
        "    titley = \"y = Age Under 19 (%)\"\n",
        "  elif in_age==1:\n",
        "    y = demogr[cols[20]]\n",
        "    titley = \"y = Age 20-64 (%)\"\n",
        "  elif in_age==2:\n",
        "    y = demogr[cols[23]]\n",
        "    titley = \"y = Age 65-84 (%)\"\n",
        "  elif in_age==3:\n",
        "    y = demogr[cols[26]]\n",
        "    titley = \"y = Age Above 85 (%)\"\n",
        "    \n",
        "  # log10(population density), poverty\n",
        "  x = np.log10(demogr[cols[11]].replace([-2222,0], [demogr[cols[11]].mean(),1]))\n",
        "  z = demogr[cols[14]].replace(-2222.2, demogr[cols[14]].mean())\n",
        "  d = np.log10(demogr[cols[8]]) # log10(population)\n",
        "\n",
        "  # slice data\n",
        "  slicenum = 38\n",
        "  slices = np.linspace(0, max(z), slicenum)\n",
        "  \n",
        "  ##############  \n",
        "  if in_slice == 0: \n",
        "  ############## \n",
        "  # display all data\n",
        "    trace1 = go.Scatter3d(\n",
        "        x=x,\n",
        "        y=y,\n",
        "        z=z,\n",
        "        mode='markers',\n",
        "        marker=dict(\n",
        "            size=d*2,\n",
        "            color=z,                     # set color to an array/list of desired values\n",
        "            colorscale=colorscales[8],   # choose a colorscale\n",
        "            opacity=1,\n",
        "            showscale=True,\n",
        "            colorbar=dict(x=colorbarx, len=0.5, \n",
        "                          thickness=10,\n",
        "                          outlinecolor='white', outlinewidth=0,\n",
        "                          title=dict(text=titlez, font=dict(size=10))\n",
        "                         ),\n",
        "            line=dict(width=0.001, color='black')\n",
        "        ),\n",
        "        text='County Level',\n",
        "        projection=dict(x=dict(show=True, opacity=0.1, scale=0.4),\n",
        "                        y=dict(show=True, opacity=0.1, scale=0.4),\n",
        "                        z=dict(show=True, opacity=0.1, scale=0.4),\n",
        "                       )\n",
        "    )\n",
        "    data = [trace1]\n",
        "  ##############    \n",
        "  else: \n",
        "  ##############\n",
        "  # display sliced data\n",
        "    # slice data\n",
        "    if in_range<0 or in_range>slicenum: in_range=0\n",
        "    condition = ((z >= slices[in_range]) & (z < slices[in_range+1]))\n",
        "    x1 = x[condition]\n",
        "    y1 = y[condition]\n",
        "    z1 = [slices[in_range]] * len(x1)\n",
        "    slicecolor = colorlover.interp(portland_rgb, slicenum)[in_range]\n",
        "\n",
        "    # create a plane\n",
        "    p1 = np.linspace(0, max(x), 5)\n",
        "    p2 = np.linspace(0, max(y), 5)\n",
        "    p1, p2 = np.meshgrid(p1, p2)\n",
        "    p3 = [[slices[in_range]] * 5] * 5\n",
        "    \n",
        "    ##############\n",
        "    # plot\n",
        "    ##############\n",
        "    # this is all data points in very light gray\n",
        "    trace1 = go.Scatter3d(\n",
        "      x=x,\n",
        "      y=y,\n",
        "      z=z,\n",
        "      mode='markers',\n",
        "      name='county',\n",
        "      marker=dict(\n",
        "          size=d*2,\n",
        "          color=\"black\", \n",
        "          opacity=0.01,\n",
        "          line=dict(width=0.00, color='black'),\n",
        "          ),\n",
        "          showlegend=False,\n",
        "    )\n",
        "    # this is a plane\n",
        "    trace2 = go.Surface(\n",
        "        x=tuple(p1),\n",
        "        y=tuple(p2),\n",
        "        z=tuple(p3),\n",
        "        name='slice',\n",
        "        colorscale=\"Greys\",\n",
        "        opacity=0.5,\n",
        "        showscale=False,\n",
        "    )\n",
        "    # this is merely a colorbar\n",
        "    trace3 = go.Scatter3d(\n",
        "        x=[0],\n",
        "        y=[0],\n",
        "        z=[0],\n",
        "        name='',\n",
        "        mode='markers',\n",
        "        marker=dict(\n",
        "            size=0.01,\n",
        "            color=z, # set color to an array/list of desired values\n",
        "            colorscale=portland, # choose a colorscale\n",
        "            opacity=1,\n",
        "            showscale=True,\n",
        "            colorbar=dict(x=colorbarx, len=0.5, \n",
        "                          thickness=10,\n",
        "                          outlinecolor='white', outlinewidth=0,\n",
        "                          title=dict(text=titlez, font=dict(size=10))\n",
        "                         ),\n",
        "            line=dict(width=0.01, color='gray')\n",
        "        ),\n",
        "        showlegend=False,\n",
        "    )    \n",
        "    # this is the actual sliced data points\n",
        "    # why separating data points and colorbar?\n",
        "    # cause I need only one color from the colorscale\n",
        "    trace4 = go.Scatter3d(\n",
        "        x=x1,\n",
        "        y=y1,\n",
        "        z=z1,\n",
        "        name='Poverty (%)',\n",
        "        mode='markers',\n",
        "        marker=dict(\n",
        "            size=d*2,\n",
        "            color=slicecolor,\n",
        "            opacity=1,\n",
        "            showscale=False,\n",
        "            line=dict(width=0.01, color='gray')\n",
        "        ),\n",
        "        projection=dict(x=dict(show=True, opacity=0.1, scale=0.8),\n",
        "                        y=dict(show=True, opacity=0.1, scale=0.8),\n",
        "                        z=dict(show=True, opacity=0.1, scale=0.8),\n",
        "                       ),\n",
        "        showlegend=False,\n",
        "    )    \n",
        "    data = [trace1, trace2, trace3, trace4]\n",
        "  ##############    \n",
        "  # end of if-else    \n",
        "  ##############\n",
        "    \n",
        "  layout = go.Layout(\n",
        "      autosize=False,\n",
        "      width=700,\n",
        "      height=600,\n",
        "      margin=dict(l=0, r=0, b=0, t=0),\n",
        "      scene=dict(xaxis=dict(title=\"x = Population Density (lg)\"),\n",
        "                 yaxis=dict(title=titley),\n",
        "                 zaxis=dict(title=\"z = \"+titlez),\n",
        "#       bgcolor=bgcolor,\n",
        "      ),\n",
        "  )\n",
        "  fig = go.Figure(data=data, layout=layout)\n",
        "  return fig\n",
        "   \n",
        "\n",
        "fig = display_fig()\n",
        "\n",
        "\n",
        "#########################################################################\n",
        "# Dash App\n",
        "#########################################################################\n",
        "options1 = [\n",
        "  {'label': 'All Data', 'value': 0},\n",
        "  {'label': 'Sliced Data', 'value': 1},\n",
        "]\n",
        "options2 = [\n",
        "  {'label': \"Age Under 19\", 'value': 0},  \n",
        "  {'label': \"Age 20-64\", 'value': 1},  \n",
        "  {'label': \"Age 65-84\", 'value': 2},  \n",
        "  {'label': \"Age Above 85\", 'value': 3},  \n",
        "]\n",
        "marks1 = {\n",
        "    0:\"0\", 10:\"10\", 20:\"20\", 30:\"30\"\n",
        "}\n",
        "  \n",
        "app = dash.Dash(__name__)\n",
        "# server = app.server\n",
        "\n",
        "app.config['suppress_callback_exceptions']=True\n",
        "app.scripts.config.serve_locally = False\n",
        "# url_css = \"https://codepen.io/chriddyp/pen/bWLwgP.css\"\n",
        "url_css = \"https://gist.githubusercontent.com/Nov05/c18c77e022df6a338318512fb3e8d3ef/raw/fdba953c93e3021e409b0857a759656e137b839a/CHSI-Dash.css\"  \n",
        "app._external_stylesheet = [url_css]\n",
        "\n",
        "app.layout = html.Div(\n",
        "#     style={'backgroundColor':bgcolor},\n",
        "    children=[\n",
        "    html.Div(children=[\n",
        "      html.H1(children=\"CHSI Demographic Data\",\n",
        "              style={'padding-left': '10px'}),\n",
        "      dcc.Dropdown(id=\"dropdown1\", \n",
        "          options=options2,\n",
        "          value=0,\n",
        "          style = {'width': '300px',\n",
        "                   'fontSize': '15px',\n",
        "                   'padding-left': '20px',\n",
        "                   'display': 'inline-block'},\n",
        "          ),\n",
        "      dcc.RadioItems(id='radio1',\n",
        "          options=options1,\n",
        "          value=0,\n",
        "          labelStyle={'display': 'inline-block'},\n",
        "          style = {'fontSize': '15px',\n",
        "                   'padding-left': '20px',\n",
        "                   'padding-top': '5px',\n",
        "                  },                    \n",
        "          ),  \n",
        "      html.Div(id='text-slider1', children=[\n",
        "        html.Div(children='Slice Data by Poverty Level',\n",
        "        style = {'fontSize': '15px',\n",
        "                 'padding-left': '20px',\n",
        "                 'padding-top': '10px',\n",
        "                }\n",
        "        ),    \n",
        "        html.Div(\n",
        "        dcc.Slider(id=\"slider1\",\n",
        "            min=0,\n",
        "            max=30,\n",
        "            step=1,\n",
        "            value=0,\n",
        "            marks=marks1,\n",
        "            ),\n",
        "        style={'height': '20px', \n",
        "               'width': '300px',\n",
        "               'padding-left': '25px',\n",
        "               'padding-bottom': '10px',\n",
        "               'display': 'inline-block'},     \n",
        "        ),\n",
        "      ], style={'display':'none'}),  \n",
        "    ],\n",
        "    style={'width': '100%',\n",
        "           'marginBottom': 5, 'marginTop': 2,\n",
        "           'padding-bottom': '10px',\n",
        "           'border':'1px solid', 'border-radius': 10,\n",
        "          }    \n",
        "    ),\n",
        "    dcc.Graph(id=\"graph\", figure=fig),\n",
        "    html.Div(children=[\"Developed by \", html.A(\"Nov05\", href=url_repo, target=\"_blank\")],\n",
        "             style={'padding-top': '20px',\n",
        "                    'fontsize':'5px'}\n",
        "    )\n",
        "])\n",
        "\n",
        "@app.callback(Output(\"graph\", \"figure\"), [Input(\"dropdown1\", \"value\"), Input(\"radio1\", \"value\"), Input('slider1', \"value\")])\n",
        "def cb1(input1, input2, input3):\n",
        "  return display_fig(in_age=input1, in_slice=input2, in_range=input3)\n",
        "\n",
        "# hide slider bar if radio button 'Sliced Data' selected\n",
        "@app.callback(Output('text-slider1','style'), [Input('radio1','value')])\n",
        "def cb2(input1):\n",
        "  if input1 in [1]: # Sliced Data\n",
        "    return {'display': 'block'}\n",
        "  else: # All Data\n",
        "    return {'display': 'none'}\n",
        "\n",
        "if __name__ == '__main__':\n",
        "  app.run_server(debug=False)"
      ],
      "execution_count": 0,
      "outputs": []
    },
    {
      "cell_type": "code",
      "metadata": {
        "id": "CaTM-dIhTOQC",
        "colab_type": "code",
        "outputId": "de3308e0-2b05-4b90-ef1d-c566bfb9845c",
        "colab": {
          "base_uri": "https://localhost:8080/",
          "height": 35
        }
      },
      "source": [
        "# run this code black to get a link, then run your Dash app\n",
        "get_ipython().system_raw('./ngrok http 8050 &')\n",
        "! curl -s http://localhost:4040/api/tunnels | python3 -c \\\n",
        "\"import sys, json; print(json.load(sys.stdin)['tunnels'][0]['public_url'])\"\n",
        "# click on the link below after you start your Dash app"
      ],
      "execution_count": 10,
      "outputs": [
        {
          "output_type": "stream",
          "text": [
            "https://304e547f.ngrok.io\n"
          ],
          "name": "stdout"
        }
      ]
    },
    {
      "cell_type": "markdown",
      "metadata": {
        "id": "a2p42THPo67-",
        "colab_type": "text"
      },
      "source": [
        "**Issue solved**  \n",
        "\n",
        "2019-07-04T19:59:32.625915+00:00 app[api]: Deploy ff987c7a by user arwen_liu@hotmail.com  \n",
        "2019-07-04T19:59:32.625915+00:00 app[api]: Release v12 created by user arwen_liu@hotmail.com  \n",
        "2019-07-04T19:59:42.002629+00:00 heroku[web.1]: Starting process with command `gunicorn app:server`  \n",
        "2019-07-04T19:59:44.144995+00:00 heroku[web.1]: State changed from starting to up  \n",
        "2019-07-04T19:59:43.834964+00:00 app[web.1]: [2019-07-04 19:59:43 +0000] [4] [INFO] Starting gunicorn 19.9.0  \n",
        "2019-07-04T19:59:43.835634+00:00 app[web.1]: [2019-07-04 19:59:43 +0000] [4] [INFO] Listening at: http://0.0.0.0:46428 (4)  \n",
        "2019-07-04T19:59:43.835736+00:00 app[web.1]: [2019-07-04 19:59:43 +0000] [4] [INFO] Using worker: sync  \n",
        "2019-07-04T19:59:43.839311+00:00 app[web.1]: [2019-07-04 19:59:43 +0000] [10] [INFO] Booting worker with pid: 10  \n",
        "2019-07-04T19:59:43.888263+00:00 app[web.1]: [2019-07-04 19:59:43 +0000] [18] [INFO] Booting worker with pid: 18  \n",
        "2019-07-04T19:59:48.617367+00:00 app[web.1]: Failed to find application object 'server' in 'app'  \n",
        "2019-07-04T19:59:48.617526+00:00 app[web.1]: [2019-07-04 19:59:48 +0000] [10] [INFO] Worker exiting (pid: 10)  \n",
        "2019-07-04T19:59:48.646167+00:00 app[web.1]: Failed to find application object 'server' in 'app'  \n",
        "2019-07-04T19:59:48.646378+00:00 app[web.1]: [2019-07-04 19:59:48 +0000] [18] [INFO] Worker exiting (pid: 18)  \n",
        "2019-07-04T19:59:48.906311+00:00 app[web.1]: [2019-07-04 19:59:48 +0000] [4] [INFO] Shutting down: Master  \n",
        "2019-07-04T19:59:48.906408+00:00 app[web.1]: [2019-07-04 19:59:48 +0000] [4] [INFO] Reason: App failed to load.  \n",
        "2019-07-04T19:59:49.011878+00:00 heroku[web.1]: State changed from up to crashed  \n",
        "2019-07-04T19:59:48.990353+00:00 heroku[web.1]: Process exited with status 4  \n",
        "2019-07-04T19:59:55.000000+00:00 app[api]: Build succeeded  \n",
        "2019-07-04T20:02:43.769103+00:00 heroku[router]: at=error code=H10 desc=\"App crashed\" method=GET path=\"/\" host=dash-app-chsi.herokuapp.com request_id=871a9cfd-c666-4416-af42-dc4cbdf4665f fwd=\"76.85.2.149\" dyno= connect= service= status=503 bytes= protocol=http  \n",
        "2019-07-04T20:02:44.323653+00:00 heroku[router]: at=error code=H10 desc=\"App crashed\" method=GET path=\"/favicon.ico\" host=dash-app-chsi.herokuapp.com request_id=f9db9ffc-ef64-474e-9bd2-976c6a938b30 fwd=\"76.85.2.149\" dyno= connect= service= status=503 bytes= protocol=http  \n",
        "\n"
      ]
    }
  ]
}