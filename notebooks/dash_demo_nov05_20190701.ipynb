{
  "nbformat": 4,
  "nbformat_minor": 0,
  "metadata": {
    "colab": {
      "name": "dash_demo_nov05_20190701.ipynb",
      "version": "0.3.2",
      "provenance": [],
      "collapsed_sections": [],
      "include_colab_link": true
    },
    "kernelspec": {
      "name": "python3",
      "display_name": "Python 3"
    }
  },
  "cells": [
    {
      "cell_type": "markdown",
      "metadata": {
        "id": "view-in-github",
        "colab_type": "text"
      },
      "source": [
        "<a href=\"https://colab.research.google.com/github/Nov05/CHSI-Dash/blob/master/notebooks/dash_demo_nov05_20190701.ipynb\" target=\"_parent\"><img src=\"https://colab.research.google.com/assets/colab-badge.svg\" alt=\"Open In Colab\"/></a>"
      ]
    },
    {
      "cell_type": "code",
      "metadata": {
        "id": "ujgVKT3k8rDx",
        "colab_type": "code",
        "colab": {}
      },
      "source": [
        "# created by nov05 on 2019-07-01\n",
        "# CHSI-Dash\n",
        "# notebooks/"
      ],
      "execution_count": 0,
      "outputs": []
    },
    {
      "cell_type": "code",
      "metadata": {
        "id": "yKA3mnwUxUDe",
        "colab_type": "code",
        "colab": {}
      },
      "source": [
        "!pip install plotly_express\n",
        "!pip install dash==1.0.0  # The core dash backend\n",
        "!pip install dash-daq==0.1.0  # DAQ components (newly open-sourced!)\n",
        "### Install ngrok\n",
        "!wget https://bin.equinox.io/c/4VmDzA7iaHb/ngrok-stable-linux-amd64.zip\n",
        "!unzip ngrok-stable-linux-amd64.zip"
      ],
      "execution_count": 0,
      "outputs": []
    },
    {
      "cell_type": "code",
      "metadata": {
        "id": "mgmQsGIuxR06",
        "colab_type": "code",
        "colab": {}
      },
      "source": [
        "import numpy as np\n",
        "import pandas as pd\n",
        "\n",
        "import plotly_express as px\n",
        "from plotly.offline import init_notebook_mode\n",
        "\n",
        "import warnings\n",
        "warnings.filterwarnings('ignore')\n",
        "# warnings.filterwarnings(action='once')"
      ],
      "execution_count": 0,
      "outputs": []
    },
    {
      "cell_type": "code",
      "metadata": {
        "id": "QbwgeOeDuKdY",
        "colab_type": "code",
        "outputId": "fa0a5112-ce67-4ecd-d255-74371b57fb39",
        "colab": {
          "base_uri": "https://localhost:8080/",
          "height": 35
        }
      },
      "source": [
        "# run this code black to get a link, then run your Dash app\n",
        "get_ipython().system_raw('./ngrok http 8050 &')\n",
        "! curl -s http://localhost:4040/api/tunnels | python3 -c \\\n",
        "\"import sys, json; print(json.load(sys.stdin)['tunnels'][0]['public_url'])\"\n",
        "# click on the link below after you start your Dash app"
      ],
      "execution_count": 0,
      "outputs": [
        {
          "output_type": "stream",
          "text": [
            "https://4a01996e.ngrok.io\n"
          ],
          "name": "stdout"
        }
      ]
    },
    {
      "cell_type": "code",
      "metadata": {
        "id": "RoeaWVzWunHR",
        "colab_type": "code",
        "colab": {}
      },
      "source": [
        "import dash\n",
        "import dash_core_components as dcc\n",
        "import dash_html_components as html\n",
        "from dash.dependencies import Input, Output\n",
        "import plotly_express as px\n",
        "\n",
        "tips = px.data.tips()\n",
        "col_options = [dict(label=x, value=x) for x in tips.columns]\n",
        "dimensions = ['x', 'y', 'color', 'facet_col', 'facet_row']\n",
        "\n",
        "app = dash.Dash(__name__)\n",
        "\n",
        "app.layout = html.Div(children=[\n",
        "    html.H1(\"Demo: Plotly Express in Dash with Tips Dataset\"),\n",
        "    html.Div([html.P([d+\":\", dcc.Dropdown(id=d, options=col_options)])\n",
        "              for d in dimensions\n",
        "             ]),\n",
        "    dcc.Graph(id=\"graph\", figure=px.scatter(tips))\n",
        "])\n",
        "\n",
        "@app.callback(Output(\"graph\", \"figure\"), [Input(d, \"value\") for d in dimensions])\n",
        "def cb(x, y, color, facet_col, facet_row):\n",
        "  return px.scatter(tips, x=x, y=y, color=color, facet_col=facet_col, facet_row=facet_row)\n",
        "\n",
        "app._external_stylesheet = [\"https://codepen.io/chriddyp/pen/bWLwgP.css\"]\n",
        "app.run_server()"
      ],
      "execution_count": 0,
      "outputs": []
    }
  ]
}